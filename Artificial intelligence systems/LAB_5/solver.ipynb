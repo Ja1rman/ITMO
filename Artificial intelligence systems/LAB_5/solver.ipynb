{
  "nbformat": 4,
  "nbformat_minor": 0,
  "metadata": {
    "kernelspec": {
      "display_name": "Python 3",
      "language": "python",
      "name": "python3"
    },
    "language_info": {
      "codemirror_mode": {
        "name": "ipython",
        "version": 3
      },
      "file_extension": ".py",
      "mimetype": "text/x-python",
      "name": "python",
      "nbconvert_exporter": "python",
      "pygments_lexer": "ipython3",
      "version": "3.7.3"
    },
    "colab": {
      "name": "2_5350451497492548295.ipynb",
      "provenance": []
    }
  },
  "cells": [
    {
      "cell_type": "code",
      "metadata": {
        "colab": {
          "base_uri": "https://localhost:8080/"
        },
        "id": "yHNlmbMtvCi4",
        "outputId": "b8309f87-22a8-4565-99db-ab73250870c1"
      },
      "source": [
        "!pip install --upgrade pip\n",
        "!pip install --upgrade scikit-learn==0.23.0"
      ],
      "execution_count": 1,
      "outputs": [
        {
          "output_type": "stream",
          "name": "stdout",
          "text": [
            "Requirement already satisfied: pip in /usr/local/lib/python3.7/dist-packages (21.1.3)\n",
            "Collecting pip\n",
            "  Downloading pip-21.2.4-py3-none-any.whl (1.6 MB)\n",
            "\u001b[K     |████████████████████████████████| 1.6 MB 7.6 MB/s \n",
            "\u001b[?25hInstalling collected packages: pip\n",
            "  Attempting uninstall: pip\n",
            "    Found existing installation: pip 21.1.3\n",
            "    Uninstalling pip-21.1.3:\n",
            "      Successfully uninstalled pip-21.1.3\n",
            "Successfully installed pip-21.2.4\n",
            "Collecting scikit-learn==0.23.0\n",
            "  Downloading scikit_learn-0.23.0-cp37-cp37m-manylinux1_x86_64.whl (7.3 MB)\n",
            "\u001b[K     |████████████████████████████████| 7.3 MB 6.5 MB/s \n",
            "\u001b[?25hRequirement already satisfied: joblib>=0.11 in /usr/local/lib/python3.7/dist-packages (from scikit-learn==0.23.0) (1.0.1)\n",
            "Requirement already satisfied: numpy>=1.13.3 in /usr/local/lib/python3.7/dist-packages (from scikit-learn==0.23.0) (1.19.5)\n",
            "Collecting threadpoolctl>=2.0.0\n",
            "  Downloading threadpoolctl-3.0.0-py3-none-any.whl (14 kB)\n",
            "Requirement already satisfied: scipy>=0.19.1 in /usr/local/lib/python3.7/dist-packages (from scikit-learn==0.23.0) (1.4.1)\n",
            "Installing collected packages: threadpoolctl, scikit-learn\n",
            "  Attempting uninstall: scikit-learn\n",
            "    Found existing installation: scikit-learn 0.22.2.post1\n",
            "    Uninstalling scikit-learn-0.22.2.post1:\n",
            "      Successfully uninstalled scikit-learn-0.22.2.post1\n",
            "Successfully installed scikit-learn-0.23.0 threadpoolctl-3.0.0\n",
            "\u001b[33mWARNING: Running pip as the 'root' user can result in broken permissions and conflicting behaviour with the system package manager. It is recommended to use a virtual environment instead: https://pip.pypa.io/warnings/venv\u001b[0m\n"
          ]
        }
      ]
    },
    {
      "cell_type": "code",
      "metadata": {
        "colab": {
          "base_uri": "https://localhost:8080/"
        },
        "id": "obDxcl0EZ_qH",
        "outputId": "834a6038-b0ad-44d9-8c7f-656f272050df"
      },
      "source": [
        "exp_disp = 0.8 + 14 % 10 / 100\n",
        "classa = 14 % 9\n",
        "print(exp_disp)\n",
        "print(classa)"
      ],
      "execution_count": 2,
      "outputs": [
        {
          "output_type": "stream",
          "name": "stdout",
          "text": [
            "0.8400000000000001\n",
            "5\n"
          ]
        }
      ]
    },
    {
      "cell_type": "code",
      "metadata": {
        "colab": {
          "base_uri": "https://localhost:8080/",
          "height": 333
        },
        "id": "DIKIuZdSvCi_",
        "outputId": "3bd26e4f-dcb5-4c99-acd3-353722b5e3f0"
      },
      "source": [
        "import numpy as np\n",
        "import matplotlib\n",
        "import matplotlib.pyplot as plt\n",
        "%matplotlib inline\n",
        "from sklearn.multiclass import OneVsRestClassifier\n",
        "from sklearn.tree import DecisionTreeClassifier\n",
        "from sklearn.ensemble import RandomForestClassifier\n",
        "from sklearn.model_selection import train_test_split\n",
        "from sklearn.metrics import confusion_matrix\n",
        "from sklearn.decomposition import PCA\n",
        "from keras.datasets import mnist\n",
        "\n",
        "(X_train, y_train), (X_pred, y_pred) = mnist.load_data()\n",
        "\n",
        "dim = 784 # 28*28 \n",
        "X_train_ = X_train.reshape(len(X_train), dim)\n",
        "\n",
        "pca = PCA(svd_solver='full')\n",
        "pca = pca.fit(X_train_)\n",
        "\n",
        "explained_variance = np.round(np.cumsum(pca.explained_variance_ratio_),3)\n",
        "plt.plot(np.arange(dim), explained_variance, ls = '-')\n"
      ],
      "execution_count": 3,
      "outputs": [
        {
          "output_type": "stream",
          "name": "stdout",
          "text": [
            "Downloading data from https://storage.googleapis.com/tensorflow/tf-keras-datasets/mnist.npz\n",
            "11493376/11490434 [==============================] - 0s 0us/step\n",
            "11501568/11490434 [==============================] - 0s 0us/step\n"
          ]
        },
        {
          "output_type": "execute_result",
          "data": {
            "text/plain": [
              "[<matplotlib.lines.Line2D at 0x7f022b95aa50>]"
            ]
          },
          "metadata": {},
          "execution_count": 3
        },
        {
          "output_type": "display_data",
          "data": {
            "image/png": "[encoded data removed]",
            "text/plain": [
              "<Figure size 432x288 with 1 Axes>"
            ]
          },
          "metadata": {
            "needs_background": "light"
          }
        }
      ]
    },
    {
      "cell_type": "code",
      "metadata": {
        "colab": {
          "base_uri": "https://localhost:8080/",
          "height": 299
        },
        "id": "pg1RcVL88o4S",
        "outputId": "9aae8c06-25d6-457e-bc62-9d82c5472a4e"
      },
      "source": [
        "M = 0\n",
        "for arg, val in enumerate(np.cumsum(pca.explained_variance_ratio_)):\n",
        "  if val > exp_disp:\n",
        "    M = arg + 1\n",
        "    break\n",
        "\n",
        "M = 55\n",
        "\n",
        "print(\"Количество главных компонент, чтобы доля объяснённой дисперсии превышала \" + str(exp_disp) + \": \" + str(M))\n",
        "\n",
        "X_train = X_train.reshape(len(X_train), dim)\n",
        "pca = PCA(n_components=M, svd_solver='full')\n",
        "pca = pca.fit(X_train)\n",
        "\n",
        "explained_variance = np.round(np.cumsum(pca.explained_variance_ratio_),3)\n",
        "plt.plot(np.arange(M), explained_variance, ls = '-')\n",
        "\n",
        "X_train, X_test, y_train, y_test = train_test_split(X_train, y_train, test_size=0.3, random_state=2020)\n",
        "X_train = pca.transform(X_train)\n",
        "X_test = pca.transform(X_test)\n",
        "\n",
        "modelPCA = pca.fit(X_test) \n",
        "X_test = modelPCA.transform(X_test)\n",
        "\n",
        "tree = RandomForestClassifier(criterion='gini', min_samples_leaf=10, max_depth=20, n_estimators=10, random_state=2020)\n",
        "clf = OneVsRestClassifier(tree).fit(X_train, y_train)\n",
        "y_pred = clf.predict(X_test)\n",
        "\n",
        "CM = confusion_matrix(y_test, y_pred)\n",
        "print(\"Количество верно классифицированных объектов класса \" + str(classa) + \": \" +\n",
        "          str(CM[classa][classa]))\n"
      ],
      "execution_count": 4,
      "outputs": [
        {
          "output_type": "stream",
          "name": "stdout",
          "text": [
            "Количество главных компонент, чтобы доля объяснённой дисперсии превышала 0.8400000000000001: 55\n",
            "Количество верно классифицированных объектов класса 5: 491\n"
          ]
        },
        {
          "output_type": "display_data",
          "data": {
            "image/png": "[encoded data removed]",
            "text/plain": [
              "<Figure size 432x288 with 1 Axes>"
            ]
          },
          "metadata": {
            "needs_background": "light"
          }
        }
      ]
    },
    {
      "cell_type": "code",
      "metadata": {
        "colab": {
          "base_uri": "https://localhost:8080/"
        },
        "id": "Cz78lo1yDhV0",
        "outputId": "0f8df827-c11b-4bc1-fb8c-fac08231f183"
      },
      "source": [
        "imgs = [1337, 228, 1488, 322, 17]\n",
        "for img in imgs:\n",
        "  print(f\"Вероятность отнесение изображения №{img} к назначеному классу {y_pred[img]} = {clf.predict_proba(X_test)[img][y_pred[img]]}\")"
      ],
      "execution_count": 5,
      "outputs": [
        {
          "output_type": "stream",
          "name": "stdout",
          "text": [
            "Вероятность отнесение изображения №1337 к назначеному классу 4 = 0.39666211925145545\n",
            "Вероятность отнесение изображения №228 к назначеному классу 5 = 0.39527721084665507\n",
            "Вероятность отнесение изображения №1488 к назначеному классу 3 = 0.49566044734438935\n",
            "Вероятность отнесение изображения №322 к назначеному классу 2 = 0.34805117748193815\n",
            "Вероятность отнесение изображения №17 к назначеному классу 6 = 0.36156402440732577\n"
          ]
        }
      ]
    },
    {
      "cell_type": "code",
      "metadata": {
        "colab": {
          "base_uri": "https://localhost:8080/"
        },
        "id": "cNbRBh2MD0z3",
        "outputId": "9013c26c-6dde-4077-d632-fad0ff6de169"
      },
      "source": [
        "from sklearn.metrics import classification_report, accuracy_score\n",
        "target_names = ['class 0', 'class 1','class 2','class 3','class 4','class 5','class 6','class 7','class 8','class 9']\n",
        "print(\"Accuracy:\", accuracy_score(y_test, y_pred))\n",
        "\n",
        "print(classification_report(y_test, y_pred, target_names=target_names))"
      ],
      "execution_count": 6,
      "outputs": [
        {
          "output_type": "stream",
          "name": "stdout",
          "text": [
            "Accuracy: 0.5766111111111111\n",
            "              precision    recall  f1-score   support\n",
            "\n",
            "     class 0       0.75      0.81      0.78      1693\n",
            "     class 1       0.91      0.80      0.85      2075\n",
            "     class 2       0.36      0.50      0.42      1763\n",
            "     class 3       0.64      0.78      0.70      1873\n",
            "     class 4       0.62      0.71      0.66      1756\n",
            "     class 5       0.37      0.31      0.34      1591\n",
            "     class 6       0.35      0.25      0.29      1766\n",
            "     class 7       0.74      0.75      0.74      1886\n",
            "     class 8       0.39      0.36      0.38      1773\n",
            "     class 9       0.57      0.42      0.48      1824\n",
            "\n",
            "    accuracy                           0.58     18000\n",
            "   macro avg       0.57      0.57      0.56     18000\n",
            "weighted avg       0.58      0.58      0.57     18000\n",
            "\n"
          ]
        }
      ]
    }
  ]
}