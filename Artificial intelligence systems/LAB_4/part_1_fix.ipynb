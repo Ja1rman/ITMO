{
  "nbformat": 4,
  "nbformat_minor": 0,
  "metadata": {
    "kernelspec": {
      "display_name": "Python 3",
      "language": "python",
      "name": "python3"
    },
    "language_info": {
      "codemirror_mode": {
        "name": "ipython",
        "version": 3
      },
      "file_extension": ".py",
      "mimetype": "text/x-python",
      "name": "python",
      "nbconvert_exporter": "python",
      "pygments_lexer": "ipython3",
      "version": "3.7.0"
    },
    "colab": {
      "name": "Lab0-Part1-Copy1.ipynb",
      "provenance": []
    }
  },
  "cells": [
    {
      "cell_type": "markdown",
      "metadata": {
        "id": "ZdUiR_zJ_9A7"
      },
      "source": [
        "# Import dependencies"
      ]
    },
    {
      "cell_type": "code",
      "metadata": {
        "collapsed": true,
        "id": "mRV_3s_x_9A8"
      },
      "source": [
        "from tensorflow import keras # ФИКС\n",
        "from keras.models import Sequential\n",
        "from keras.layers import Dense, Activation\n",
        "from keras.callbacks import Callback\n",
        "from keras import regularizers\n",
        "from keras import optimizers\n",
        "import warnings\n",
        "warnings.filterwarnings(\"ignore\")\n",
        "\n",
        "from functools import partial\n",
        "\n",
        "%matplotlib inline\n",
        "import matplotlib.pyplot as plt\n",
        "from ipywidgets import *\n",
        "\n",
        "import numpy as np"
      ],
      "execution_count": 1,
      "outputs": []
    },
    {
      "cell_type": "markdown",
      "metadata": {
        "id": "OAVFGnxt_9A-"
      },
      "source": [
        "# Generate data"
      ]
    },
    {
      "cell_type": "code",
      "metadata": {
        "collapsed": true,
        "id": "QxsikIS2_9A-"
      },
      "source": [
        "# Dot count \n",
        "samples = 1000\n",
        "test_n = 200"
      ],
      "execution_count": 2,
      "outputs": []
    },
    {
      "cell_type": "code",
      "metadata": {
        "collapsed": true,
        "id": "OytQBe4q_9A_"
      },
      "source": [
        "# X interval\n",
        "x_int = (-9, 9)\n",
        "# Y interval\n",
        "y_int = (-1, 1)"
      ],
      "execution_count": 3,
      "outputs": []
    },
    {
      "cell_type": "code",
      "metadata": {
        "colab": {
          "base_uri": "https://localhost:8080/"
        },
        "id": "6oXfnSNw_9A_",
        "outputId": "8723fb89-4961-41af-e358-5d63a99b7a9e"
      },
      "source": [
        "# Generate\n",
        "data = [(np.random.random() * (x_int[1] - x_int[0]) + x_int[0], \n",
        "                  np.random.random() * (y_int[1] - y_int[0]) + y_int[0]) for i in range(samples + test_n)]\n",
        "#print(data)\n",
        "train_data = np.array(data[test_n:])\n",
        "test_data = np.array(data[:test_n])\n",
        "print(train_data)"
      ],
      "execution_count": 4,
      "outputs": [
        {
          "output_type": "stream",
          "name": "stdout",
          "text": [
            "[[ 2.97836272 -0.26539122]\n",
            " [-1.89319483 -0.93212417]\n",
            " [ 6.7845146   0.40336231]\n",
            " ...\n",
            " [-8.09671509 -0.22082401]\n",
            " [ 2.94441152 -0.80901879]\n",
            " [ 8.71567821  0.70228335]]\n"
          ]
        }
      ]
    },
    {
      "cell_type": "code",
      "metadata": {
        "collapsed": true,
        "id": "Hod4rs4g_9BA"
      },
      "source": [
        "\n",
        "# Your variant function\n",
        "def main_func(x):\n",
        "    return np.cos(x)\n",
        "def main_func_noisy(x):\n",
        "    return main_func(x) + np.cos(4*x + 1) / 5\n",
        "\n",
        "def result_func(xy):\n",
        "    return main_func(xy[0]) > xy[1]\n",
        "\n",
        "def result_func_noisy(xy):\n",
        "    return main_func_noisy(xy[0]) > xy[1]"
      ],
      "execution_count": 5,
      "outputs": []
    },
    {
      "cell_type": "code",
      "metadata": {
        "colab": {
          "base_uri": "https://localhost:8080/"
        },
        "id": "97-6jBbF_9BA",
        "outputId": "f167c662-c81f-4c25-b721-4e0745415e5b"
      },
      "source": [
        "train_answers = np.apply_along_axis(result_func_noisy, arr=train_data, axis=1)\n",
        "#answers = np.reshape(answers, (samples,1))\n",
        "print(train_answers.shape)\n",
        "\n",
        "test_answers = np.apply_along_axis(result_func, arr=test_data, axis=1)\n",
        "print(test_answers.shape)"
      ],
      "execution_count": 6,
      "outputs": [
        {
          "output_type": "stream",
          "name": "stdout",
          "text": [
            "(1000,)\n",
            "(200,)\n"
          ]
        }
      ]
    },
    {
      "cell_type": "code",
      "metadata": {
        "colab": {
          "base_uri": "https://localhost:8080/"
        },
        "id": "aZFuMAFN_9BB",
        "outputId": "603c024f-2510-44b5-ab24-8586892237c2"
      },
      "source": [
        "train_data_true = train_data[train_answers]\n",
        "train_data_false = train_data[np.logical_not(train_answers)]\n",
        "print(train_data_true.shape)\n",
        "print(train_data_false.shape)"
      ],
      "execution_count": 7,
      "outputs": [
        {
          "output_type": "stream",
          "name": "stdout",
          "text": [
            "(538, 2)\n",
            "(462, 2)\n"
          ]
        }
      ]
    },
    {
      "cell_type": "markdown",
      "metadata": {
        "id": "IW6BwdX8_9BB"
      },
      "source": [
        "## Plot drawing"
      ]
    },
    {
      "cell_type": "code",
      "metadata": {
        "colab": {
          "base_uri": "https://localhost:8080/",
          "height": 282
        },
        "id": "D0dvuTHw_9BC",
        "outputId": "3b96eea8-dbeb-4822-e6c8-769ee73b0009"
      },
      "source": [
        "fig, ax = plt.subplots()\n",
        "\n",
        "xx = np.linspace(*x_int, 100)\n",
        "\n",
        "ax.plot(train_data_true[:,0], train_data_true[:,1], 'g.')\n",
        "ax.plot(train_data_false[:,0], train_data_false[:,1], 'r.')\n",
        "ax.plot(xx, main_func(xx), 'b--')\n",
        "ax.plot(xx, main_func_noisy(xx), 'y-')"
      ],
      "execution_count": 8,
      "outputs": [
        {
          "output_type": "execute_result",
          "data": {
            "text/plain": [
              "[<matplotlib.lines.Line2D at 0x7fad1aa43b50>]"
            ]
          },
          "metadata": {},
          "execution_count": 8
        },
        {
          "output_type": "display_data",
          "data": {
            "image/png": "[encoded data removed]",
            "text/plain": [
              "<Figure size 432x288 with 1 Axes>"
            ]
          },
          "metadata": {
            "needs_background": "light"
          }
        }
      ]
    },
    {
      "cell_type": "markdown",
      "metadata": {
        "id": "a6Va82G8_9BC"
      },
      "source": [
        "## Experimentation"
      ]
    },
    {
      "cell_type": "markdown",
      "metadata": {
        "id": "trBzc4G7_9BC"
      },
      "source": [
        "Plot drawing"
      ]
    },
    {
      "cell_type": "code",
      "metadata": {
        "collapsed": true,
        "id": "3o5us0ac_9BD"
      },
      "source": [
        "def plot_accuracy(history):\n",
        "    # Plot training & validation accuracy values\n",
        "    plt.plot(history.history['accuracy']) # ФИКС\n",
        "    plt.plot(history.history['val_accuracy']) # ФИКС\n",
        "    plt.title('Model accuracy')\n",
        "    plt.ylabel('Accuracy')\n",
        "    plt.xlabel('Epoch')\n",
        "    plt.legend(['Train', 'Test'], loc='upper left')\n",
        "    plt.show()\n",
        "\n",
        "    # Plot training & validation loss values\n",
        "    plt.plot(history.history['loss'])\n",
        "    plt.plot(history.history['val_loss'])\n",
        "    plt.title('Model loss')\n",
        "    plt.ylabel('Loss')\n",
        "    plt.xlabel('Epoch')\n",
        "    plt.legend(['Train', 'Test'], loc='upper left')\n",
        "    plt.show()"
      ],
      "execution_count": 9,
      "outputs": []
    },
    {
      "cell_type": "markdown",
      "metadata": {
        "id": "2xR2lKvT_9BD"
      },
      "source": [
        "Setting parameters and contur plot drawing"
      ]
    },
    {
      "cell_type": "code",
      "metadata": {
        "collapsed": true,
        "id": "rcesSv-F_9BD"
      },
      "source": [
        "def plot_contour_graph(model):\n",
        "    xx = np.linspace(*x_int, 100)\n",
        "    yy = np.linspace(*y_int, 200)\n",
        "\n",
        "    xm, ym = np.meshgrid(xx, yy)\n",
        "    xys = np.array([xm, ym]).reshape((2, -1))\n",
        "\n",
        "    z_actual = result_func(xys).reshape(200,100)\n",
        "\n",
        "    xys = np.moveaxis(xys, 0, 1)\n",
        "    z = model.predict(xys).reshape(200, 100)\n",
        "\n",
        "    \n",
        "    plt.contourf(xm, ym, z)\n",
        "    plt.title('Neural net vision of the function')\n",
        "    plt.colorbar()\n",
        "    plt.show()\n",
        "    \n",
        "    plt.contourf(xm, ym, z_actual)\n",
        "    plt.title('Actual function')\n",
        "    plt.colorbar()\n",
        "    plt.show()"
      ],
      "execution_count": 10,
      "outputs": []
    },
    {
      "cell_type": "code",
      "metadata": {
        "scrolled": false,
        "colab": {
          "base_uri": "https://localhost:8080/",
          "height": 1000
        },
        "id": "Kw9b6d0U_9BE",
        "outputId": "2d2400a4-170a-499f-c3ab-4898d10bc597"
      },
      "source": [
        "style = {'description_width': 'initial'}\n",
        "@interact_manual(\n",
        "    n_layers = IntSlider(min=0, max=4, value=2, description='Слоев: '),\n",
        "    layer1_size = IntSlider(min=0, max=20, value=6, description='Neurons count in layer 1: ', style=style),\n",
        "    layer2_size = IntSlider(min=0, max=20, value=3, description='Neurons count in layer 2: ', style=style),\n",
        "    layer3_size = IntSlider(min=0, max=20, value=0, description='Neurons count in layer 1: ', style=style),\n",
        "    layer4_size = IntSlider(min=0, max=20, value=0, description='Neurons count in layer 1: ', style=style),\n",
        "    layer1_type = Dropdown(options=['softmax', 'relu', 'tanh', 'sigmoid', 'linear'], value='relu',\n",
        "                          description='Layer 1 activation type: ', style=style),\n",
        "    layer2_type = Dropdown(options=['softmax', 'relu', 'tanh', 'sigmoid', 'linear'], value='relu',\n",
        "                          description='Layer 2 activation type: ', style=style),\n",
        "    layer3_type = Dropdown(options=['softmax', 'relu', 'tanh', 'sigmoid', 'linear'], value='relu',\n",
        "                          description='Layer 3 activation type: ', style=style),\n",
        "    layer4_type = Dropdown(options=['softmax', 'relu', 'tanh', 'sigmoid', 'linear'], value='relu',\n",
        "                          description='Layer 4 activation type: ', style=style),\n",
        "    layer_out_type = Dropdown(options=['softmax', 'relu', 'tanh', 'sigmoid', 'linear'], value='sigmoid',\n",
        "                          description='Output layer activation type: ', style=style),\n",
        "    loss_func = Dropdown(options={\n",
        "        'Standard deviation': 'mse', \n",
        "        'Mean absolute deviation': 'mae',\n",
        "        'Binary crossentropy': 'binary_crossentropy'\n",
        "    }, value='binary_crossentropy', description='Loss function: ', style=style),\n",
        "    epochs = IntSlider(min=10, max=10000, step=10, value=300, description='Epoch count: ', style=style),\n",
        "    batch_size = IntSlider(min=0, max=len(data), value=100, description='Batch size: ', style=style),\n",
        "    lr = ToggleButtons(options=[\"-0.1\", \"0\", \"0.001\", \"0.01\", \"0.05\", \"0.1\", \"0.5\", \"1\", \"5\"], \n",
        "                               value=\"0.01\", description='Learn rate: ', style=style),\n",
        "    l1=ToggleButtons(options=[\"-0.1\", \"0\", \"0.0001\", \"0.0005\", \"0.001\", \"0.005\", \"0.01\", \"0.05\", \"0.1\"], \n",
        "                               value=\"0.0001\", description='Regularization  L1: ', style=style),\n",
        "    l2=ToggleButtons(options=[\"-0.1\", \"0\", \"0.0001\", \"0.0005\", \"0.001\", \"0.005\", \"0.01\", \"0.05\", \"0.1\"], \n",
        "                               value=\"0.0001\", description='Regularization  L2: ', style=style)\n",
        ")\n",
        "def interactive_learning(n_layers, loss_func, batch_size, lr, l1, l2, layer_out_type, epochs,\n",
        "                         layer1_size, layer2_size, layer3_size, layer4_size,\n",
        "                         layer1_type, layer2_type, layer3_type, layer4_type):\n",
        "    layer_sizes = [layer1_size, layer2_size, layer3_size, layer4_size]\n",
        "    layer_types = [layer1_type, layer2_type, layer3_type, layer4_type]\n",
        "    lr = float(lr)\n",
        "    l1 = float(l1)\n",
        "    l2 = float(l2)\n",
        "    \n",
        "    model = Sequential()\n",
        "    \n",
        "    if n_layers == 0:\n",
        "        model.add(Dense(1, activation=layer_out_type, \n",
        "                        input_shape=(2,), kernel_regularizer=regularizers.l1_l2(l1=l1, l2=l2)))\n",
        "    else:\n",
        "        model.add(Dense(layer_sizes[0], activation=layer_types[0], \n",
        "                        input_shape=(2,), kernel_regularizer=regularizers.l1_l2(l1=l1, l2=l2)))\n",
        "        for i in range(1, n_layers):\n",
        "            model.add(Dense(layer_sizes[i], activation=layer_types[i],\n",
        "                           kernel_regularizer=regularizers.l1_l2(l1=l1, l2=l2)))\n",
        "        model.add(Dense(1, activation=layer_out_type, kernel_regularizer=regularizers.l1_l2(l1=l1, l2=l2)))\n",
        "    \n",
        "    model.compile(\n",
        "     optimizer = optimizers.gradient_descent_v2.SGD(lr=lr),\n",
        "     loss = loss_func,\n",
        "     metrics = [\"accuracy\"]\n",
        "    )\n",
        "    \n",
        "    \n",
        "    history = model.fit(\n",
        "     train_data, train_answers,\n",
        "     epochs=epochs,\n",
        "     batch_size=batch_size,\n",
        "     validation_data=(test_data, test_answers),\n",
        "     verbose=0\n",
        "    )\n",
        "    \n",
        "    print('Accuracy: ', history.history['val_accuracy'][-1]) # ФИКС\n",
        "    # print(history.history.keys)\n",
        "    # for i in history.history:\n",
        "    #   print(i)\n",
        "    plot_accuracy(history)\n",
        "    plot_contour_graph(model)"
      ],
      "execution_count": 12,
      "outputs": [
        {
          "output_type": "display_data",
          "data": {
            "application/vnd.jupyter.widget-view+json": {
              "model_id": "d00f4575a6d74d1ead0a9f55ecabe04e",
              "version_minor": 0,
              "version_major": 2
            },
            "text/plain": [
              "interactive(children=(IntSlider(value=2, description='Слоев: ', max=4), Dropdown(description='Loss function: '…"
            ]
          },
          "metadata": {}
        }
      ]
    },
    {
      "cell_type": "code",
      "metadata": {
        "collapsed": true,
        "id": "PCjwmj--_9BG"
      },
      "source": [
        ""
      ],
      "execution_count": null,
      "outputs": []
    }
  ]
}